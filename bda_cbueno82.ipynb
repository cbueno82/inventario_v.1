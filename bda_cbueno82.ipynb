{
 "cells": [
  {
   "cell_type": "markdown",
   "metadata": {},
   "source": [
    "<h3>Estructuras principales</h3>"
   ]
  },
  {
   "cell_type": "code",
   "execution_count": 24,
   "metadata": {},
   "outputs": [],
   "source": [
    "import pandas as pd"
   ]
  },
  {
   "cell_type": "code",
   "execution_count": 47,
   "metadata": {},
   "outputs": [],
   "source": [
    "inventario = []\n",
    "clientes = {}\n",
    "ventas_totales = 0.0\n",
    "tabla_inventario = pd.DataFrame(inventario)"
   ]
  },
  {
   "cell_type": "markdown",
   "metadata": {},
   "source": [
    "<h3>Función 1: Agregar producto</h3>"
   ]
  },
  {
   "cell_type": "code",
   "execution_count": 38,
   "metadata": {},
   "outputs": [],
   "source": [
    "def agregar_producto(nombre, precio, cantidad):\n",
    "\n",
    "    \"\"\"Introduce nuevos productos con su información sobre precio y cantidad. Si ya existe, añade la cantidad señalada.\n",
    "    Si no existe, crea un nuevo producto. Los parámetros son: nombre(str); precio(float); y cantidad(float.\"\"\"\n",
    "    \n",
    "    nombre = nombre.lower() # convertir en minúsculas para evitar errores\n",
    "    \n",
    "    # recorre el inventario, si hay uno con el mismo nombre, añade cantidad, si no, se sale\n",
    "    for producto in inventario:\n",
    "        if producto[\"nombre\"] == nombre:\n",
    "            producto[\"cantidad\"] += cantidad #actualización de la cantidad\n",
    "            return\n",
    "    # si no encuentra un producto con el mismo nombre, lo añade al inventario\n",
    "    inventario.append({\"nombre\": nombre, \"precio\": precio, \"cantidad\": cantidad})\n",
    "    \n"
   ]
  },
  {
   "cell_type": "markdown",
   "metadata": {},
   "source": [
    "<h4>Llamada a agregar_producto</h4>"
   ]
  },
  {
   "cell_type": "code",
   "execution_count": 45,
   "metadata": {},
   "outputs": [
    {
     "name": "stdout",
     "output_type": "stream",
     "text": [
      "    nombre  precio  cantidad\n",
      "0   tomate     5.0        80\n",
      "1     piña     3.0        10\n",
      "2  perejil     0.5        50\n",
      "3     tofu     1.0        25\n"
     ]
    }
   ],
   "source": [
    "agregar_producto(\"tofu\", 1, 25) # añade el producto\n",
    "print(tabla_inventario)"
   ]
  },
  {
   "cell_type": "markdown",
   "metadata": {},
   "source": [
    "<h3>Función 2: Ver inventario</h3>"
   ]
  },
  {
   "cell_type": "code",
   "execution_count": 4,
   "metadata": {},
   "outputs": [],
   "source": [
    "def ver_inventario():\n",
    "    \"\"\"Enseña el inventario recorriendo la lista. De cada producto dice el nombre del producto, su precio y la cantidad disponible.\"\"\"\n",
    "    # recorre el inventario e imprime la información (el nombre se capitaliza por estética)\n",
    "    for producto in inventario: \n",
    "        print(f\"Nombre: {producto['nombre'].title()}, Precio: {producto['precio']}, Cantidad: {producto['cantidad']}\")"
   ]
  },
  {
   "cell_type": "markdown",
   "metadata": {},
   "source": [
    "<h4>Llamada a ver_inventario</4>"
   ]
  },
  {
   "cell_type": "code",
   "execution_count": 5,
   "metadata": {},
   "outputs": [
    {
     "name": "stdout",
     "output_type": "stream",
     "text": [
      "Nombre: Sandía, Precio: 2, Cantidad: 4\n"
     ]
    }
   ],
   "source": [
    "ver_inventario()"
   ]
  },
  {
   "cell_type": "markdown",
   "metadata": {},
   "source": [
    "<h3> Función 3: Buscar producto</h3>"
   ]
  },
  {
   "cell_type": "code",
   "execution_count": 6,
   "metadata": {},
   "outputs": [],
   "source": [
    "def buscar_producto(nombre):\n",
    "    \"\"\"Busca producto según su nombre y lo imprime. Tiene como parámetro 'nombre' e imprime el nombre, el precio y la cantidad;\n",
    "    si no lo encuentra, avisa.\"\"\"\n",
    "    \n",
    "    nombre = nombre.lower() # para evitar que se produzcan errores por mayúscula/minúscula\n",
    "    \n",
    "    for producto in inventario:\n",
    "        if producto[\"nombre\"].lower() == nombre: # comprobación de si el nombre coincide y si coincide imprimir\n",
    "            print(f\"Nombre: {nombre.title()}. Precio: {producto['precio']}. Cantidad: {producto['cantidad']}\")\n",
    "            break\n",
    "    # caso de no encontrar el producto, se sale del bucle con break para avisar al usuario\n",
    "    else:\n",
    "        print(\"El producto no se encuentra en el inventario.\")"
   ]
  },
  {
   "cell_type": "markdown",
   "metadata": {},
   "source": [
    "<h4>Llamada a buscar_producto</h4>"
   ]
  },
  {
   "cell_type": "code",
   "execution_count": 7,
   "metadata": {},
   "outputs": [
    {
     "name": "stdout",
     "output_type": "stream",
     "text": [
      "El producto no se encuentra en el inventario.\n"
     ]
    }
   ],
   "source": [
    "buscar_producto(\"manzana\")"
   ]
  },
  {
   "cell_type": "markdown",
   "metadata": {},
   "source": [
    "<h3>Función 4: Actualizar stock</h3>"
   ]
  },
  {
   "cell_type": "code",
   "execution_count": 8,
   "metadata": {},
   "outputs": [],
   "source": [
    "def actualizar_stock(nombre, cantidad):\n",
    "   \n",
    "    \"\"\"Actualiza la cantidad en el inventario de un producto. Los parámetros son el nombre y la cantidad. Si encuentra el producto, añade la cantidad\n",
    "    e imprime un mensaje; si no, imprime otro mensaje avisando de que no existe en el inventario.\"\"\"\n",
    "\n",
    "    nombre = nombre.lower() # se hace minúscula para evitar problemas\n",
    "    \n",
    "    # se recorren todos los productos del inventario\n",
    "    for producto in inventario:\n",
    "        # se comprueba si el nombre coincide y se actualiza la cantidad; se imprime la confirmación.\n",
    "        if producto[\"nombre\"].lower() == nombre:\n",
    "            producto[\"cantidad\"] += cantidad \n",
    "            print (f\"El stock se ha actualizado. Ahora hay {producto['cantidad']} {producto['nombre']}.\")\n",
    "            return # se usa return en lugar de break para que la función on continúe al print\n",
    "    \n",
    "    print(\"El producto no se ha encontrado en el inventario.\")"
   ]
  },
  {
   "cell_type": "markdown",
   "metadata": {},
   "source": [
    "<h4>Llamada a actualizar_stock</h4>"
   ]
  },
  {
   "cell_type": "code",
   "execution_count": 9,
   "metadata": {},
   "outputs": [
    {
     "name": "stdout",
     "output_type": "stream",
     "text": [
      "El producto no se ha encontrado en el inventario.\n"
     ]
    }
   ],
   "source": [
    "actualizar_stock(\"limones\", 1)"
   ]
  },
  {
   "cell_type": "markdown",
   "metadata": {},
   "source": [
    "<h3>Función 5: Eliminar producto</h3>"
   ]
  },
  {
   "cell_type": "code",
   "execution_count": 10,
   "metadata": {},
   "outputs": [],
   "source": [
    "def eliminar_producto(nombre):\n",
    "\n",
    "    \"\"\"Elimina el producto introducido en el parámetro nombre. Avisa de la eliminación y de si no existe el producto\"\"\"\n",
    "\n",
    "    nombre = nombre.lower() # se hace minúscula para evitar problemas\n",
    "\n",
    "    # se recorre el inventario y se compara el nombre con los productos\n",
    "    for producto in inventario:\n",
    "        if producto[\"nombre\"].lower() == nombre:\n",
    "            inventario.remove(producto) # se elimina el producto y se muestra un mensaje de confirmación\n",
    "            print (f\"{nombre.title()} se ha eliminado del inventario.\")\n",
    "            return\n",
    "   \n",
    "    # se avisa de que el producto no está en el inventario\n",
    "    print(\"Producto no encontrado.\")"
   ]
  },
  {
   "cell_type": "markdown",
   "metadata": {},
   "source": [
    "<h4>Llamada a eliminar_stock</h4>"
   ]
  },
  {
   "cell_type": "code",
   "execution_count": 11,
   "metadata": {},
   "outputs": [
    {
     "name": "stdout",
     "output_type": "stream",
     "text": [
      "Producto no encontrado.\n"
     ]
    }
   ],
   "source": [
    "eliminar_producto(\"limones\")"
   ]
  },
  {
   "cell_type": "markdown",
   "metadata": {},
   "source": [
    "<h3>Función 6: Calcular valor del inventario</h3>"
   ]
  },
  {
   "cell_type": "code",
   "execution_count": 12,
   "metadata": {},
   "outputs": [],
   "source": [
    "def calcular_valor_inventario():\n",
    "    \n",
    "    \"\"\"Calcula y enseña cuál es el valor del inventario.\"\"\"\n",
    "    \n",
    "    valor = 0 # partimos de que este es el valor del inventario\n",
    "\n",
    "    # se recorre el inventario y se va sumando a este valor que iniciábamos en 0 el producto de\n",
    "    # cada uno de los productos que tenemos en su cantidad * el precio de cada producto\n",
    "    for producto in inventario:\n",
    "        valor += producto[\"precio\"] * producto[\"cantidad\"]\n",
    "    \n",
    "    print(f\"El valor del inventario es de {valor}€.\")"
   ]
  },
  {
   "cell_type": "markdown",
   "metadata": {},
   "source": [
    "<h4>Llamada a calcular_valor_inventario</h4>"
   ]
  },
  {
   "cell_type": "code",
   "execution_count": 13,
   "metadata": {},
   "outputs": [
    {
     "name": "stdout",
     "output_type": "stream",
     "text": [
      "El valor del inventario es de 8€.\n"
     ]
    }
   ],
   "source": [
    "calcular_valor_inventario()"
   ]
  },
  {
   "cell_type": "markdown",
   "metadata": {},
   "source": [
    "<h3>Función 7: Realizar una compra"
   ]
  },
  {
   "cell_type": "code",
   "execution_count": 29,
   "metadata": {},
   "outputs": [],
   "source": [
    "def realizar_compra(nombre_cliente):\n",
    "\n",
    "    \"\"\"Facilita al cliente comprar. Para ello hay un bucle while para poder hacer varias selecciones; \n",
    "    muestra el inventario y pide el nombre del producto que se va a comprar y la cantidad; pone cada producto en la compra \n",
    "    y actualiza la cantidad en el inventario; y calcula e imprime el total de la compra\"\"\"\n",
    "    compra = [] \n",
    "    total_compra = 0\n",
    "\n",
    "    \n",
    "\n",
    "    while True:     \n",
    "        \n",
    "        # ver el inventario\n",
    "\n",
    "        print(\"Productos disponibles: \")\n",
    "        ver_inventario()      \n",
    "\n",
    "        # preguntar por el nombre del producto\n",
    "\n",
    "        eleccion_cliente = input(\"¿Qué quieres comprar? Escribe 'terminado' para terminar la compra\").lower()\n",
    "      \n",
    "        if eleccion_cliente == \"terminado\":\n",
    "            break\n",
    "\n",
    "        #preguntar por la cantidad a comprar\n",
    "\n",
    "        cantidad_input = input(f\"¿Cuántas unidades de {eleccion_cliente} quieres comprar? \")\n",
    "        if not cantidad_input.isdigit():\n",
    "            print(\"Introduce un número válido.\")\n",
    "            continue\n",
    "        cantidad = float(cantidad_input)\n",
    "\n",
    "        # búsqueda del producto en el inventario\n",
    "\n",
    "        for producto in inventario:\n",
    "            if producto['nombre'] == eleccion_cliente:\n",
    "                    if producto['cantidad'] >= cantidad: #Si hay suficientes productos\n",
    "                        subtotal = cantidad * producto[\"precio\"]\n",
    "                        compra.append({'nombre': eleccion_cliente, 'cantidad': cantidad, 'subtotal': subtotal})\n",
    "                        total_compra += subtotal\n",
    "                        producto['cantidad'] -= cantidad \n",
    "                        print(\"Aquí tienes el inventario actualizado:\")\n",
    "                        ver_inventario()\n",
    "                    else:\n",
    "                        print(f\"Lo sentimos mucho, solo quedan {producto['cantidad']} {producto['nombre']}\")\n",
    "                    break # el break tiene que romper este if, en cualquier otra posición rompe antes de que pueda volver a recorrer la lista\n",
    "        else:\n",
    "            print(\"Lo sentimos mucho, pero no podemos encontrar este producto.\")\n",
    "    \n",
    "    # cálculo del costo total de la compra\n",
    "    if compra:\n",
    "        print(\"¡Ya has terminado de comprar! Aquí tienes lo que has comprado hasta ahora: \")\n",
    "        for elemento in compra:\n",
    "            print(f\"{elemento['cantidad']} {elemento['nombre'].title()} = {elemento['subtotal']}€\")\n",
    "            \n",
    "        print(f\"En total, tu compra asciende a: {total_compra}€.\") # sacamos el total de la compra del bucle de la compra para que no se repite por elemento\n",
    "    else:\n",
    "        print(\"No has comprado nada.\")\n",
    "    return total_compra\n",
    "         \n",
    "        "
   ]
  },
  {
   "cell_type": "markdown",
   "metadata": {},
   "source": [
    "<h4>Llamada a la función realizar_compra</h4>"
   ]
  },
  {
   "cell_type": "code",
   "execution_count": 46,
   "metadata": {},
   "outputs": [
    {
     "name": "stdout",
     "output_type": "stream",
     "text": [
      "ursula agregado correctamente.\n",
      "Productos disponibles: \n",
      "Nombre: Tomate, Precio: 5, Cantidad: 80\n",
      "Nombre: Piña, Precio: 3, Cantidad: 10\n",
      "Nombre: Perejil, Precio: 0.5, Cantidad: 50\n",
      "Nombre: Tofu, Precio: 1, Cantidad: 25\n",
      "Lo sentimos mucho, pero no podemos encontrar este producto.\n",
      "Productos disponibles: \n",
      "Nombre: Tomate, Precio: 5, Cantidad: 80\n",
      "Nombre: Piña, Precio: 3, Cantidad: 10\n",
      "Nombre: Perejil, Precio: 0.5, Cantidad: 50\n",
      "Nombre: Tofu, Precio: 1, Cantidad: 25\n",
      "No has comprado nada.\n"
     ]
    },
    {
     "data": {
      "text/plain": [
       "0"
      ]
     },
     "execution_count": 46,
     "metadata": {},
     "output_type": "execute_result"
    }
   ],
   "source": [
    "agregar_cliente(\"ursula\", \"ursula@ozu.com\")  # para asegurarnos que existe el cliente\n",
    "realizar_compra(\"ursula\")"
   ]
  },
  {
   "cell_type": "markdown",
   "metadata": {},
   "source": [
    "<h3>Función 8: Procesar el pago"
   ]
  },
  {
   "cell_type": "code",
   "execution_count": 16,
   "metadata": {},
   "outputs": [],
   "source": [
    "def procesar_pago():\n",
    "    \"\"\"Procesa el pago de una compra, calcula el cambio y muestra un mensaje de confirmación.\"\"\"\n",
    "    try:\n",
    "        total = float(input(\"Ingrese el total de la compra: \")) # pide al usuario que ingrese el total de la compra y lo transforma en float\n",
    "        pago = float(input(\"Ingrese la cantidad pagada: \")) # ahora la cantidad pagada\n",
    "        if pago < total: # verifica si el pago es menor que el total y da error si es así\n",
    "            raise ValueError(\"El total pagado no es suficiente.\")\n",
    "        cambio = pago - total # calcula el cambio\n",
    "        print(f\"¡Pagado! El cambio es {cambio:.2f}€\") # muestra un mesnaje de pago y le mete dos decimales\n",
    "    except ValueError as e: # si algo sale raro, se muestra mensaje de error\n",
    "        print(f\"Error en el pago: {e}\")"
   ]
  },
  {
   "cell_type": "markdown",
   "metadata": {},
   "source": [
    "<h3>Función 9: Agregar cliente"
   ]
  },
  {
   "cell_type": "code",
   "execution_count": 19,
   "metadata": {},
   "outputs": [],
   "source": [
    "def agregar_cliente(nombre, email):\n",
    "\n",
    "    \"\"\"Se añade un nuevo cliente a la base datos.\"\"\"\n",
    "\n",
    "    # Agrega una nueva entrada en el diccionario 'clientes' usando el nombre como clave\n",
    "    # y un diccionario con el email y un historial de compras vacío como valor\n",
    "    clientes[nombre] = {\n",
    "        \"email\": email,              # Guarda el correo electrónico del cliente\n",
    "        \"historial_compras\": []      # Inicializa una lista vacía para el historial de compras\n",
    "    }\n",
    "\n",
    "    # Muestra un mensaje de confirmación\n",
    "    print(f\"{nombre} agregado correctamente.\")"
   ]
  },
  {
   "cell_type": "code",
   "execution_count": 50,
   "metadata": {},
   "outputs": [
    {
     "name": "stdout",
     "output_type": "stream",
     "text": [
      "Juan agregado correctamente.\n",
      "                 email historial_compras\n",
      "Úrsula  ursula@ozu.com                []\n",
      "Juan    ursula@ozu.com                []\n"
     ]
    }
   ],
   "source": [
    "agregar_cliente(\"Juan\", \"ursula@ozu.com\")\n",
    "tabla_clientes = pd.DataFrame.from_dict(clientes, orient=\"index\") # convertimos el diccionario de clientes en tabla, con index se usa la clave (los clientes) como índice de las filas\n",
    "print(tabla_clientes)"
   ]
  },
  {
   "cell_type": "code",
   "execution_count": null,
   "metadata": {},
   "outputs": [],
   "source": []
  }
 ],
 "metadata": {
  "kernelspec": {
   "display_name": "base",
   "language": "python",
   "name": "python3"
  },
  "language_info": {
   "codemirror_mode": {
    "name": "ipython",
    "version": 3
   },
   "file_extension": ".py",
   "mimetype": "text/x-python",
   "name": "python",
   "nbconvert_exporter": "python",
   "pygments_lexer": "ipython3",
   "version": "3.12.7"
  }
 },
 "nbformat": 4,
 "nbformat_minor": 2
}
