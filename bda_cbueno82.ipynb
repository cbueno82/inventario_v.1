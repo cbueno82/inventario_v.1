{
 "cells": [
  {
   "cell_type": "markdown",
   "metadata": {},
   "source": [
    "<h3>Estructuras principales</h3>"
   ]
  },
  {
   "cell_type": "code",
   "execution_count": 1,
   "metadata": {},
   "outputs": [],
   "source": [
    "import pandas as pd"
   ]
  },
  {
   "cell_type": "code",
   "execution_count": 6,
   "metadata": {},
   "outputs": [],
   "source": [
    "inventario = []\n",
    "clientes = {}\n",
    "ventas_totales = 0.0\n"
   ]
  },
  {
   "cell_type": "markdown",
   "metadata": {},
   "source": [
    "<h3>Agregar producto</h3>"
   ]
  },
  {
   "cell_type": "code",
   "execution_count": 9,
   "metadata": {},
   "outputs": [],
   "source": [
    "def agregar_producto(nombre, precio, cantidad):\n",
    "\n",
    "    \"\"\"Introduce nuevos productos con su información sobre precio y cantidad. Si ya existe, añade la cantidad señalada.\n",
    "    Si no existe, crea un nuevo producto. Los parámetros son: nombre(str); precio(float); y cantidad(float.\"\"\"\n",
    "    \n",
    "    nombre = nombre.lower() # convertir en minúsculas para evitar errores\n",
    "    \n",
    "    # recorre el inventario, si hay uno con el mismo nombre, añade cantidad, si no, se sale\n",
    "    for producto in inventario:\n",
    "        if producto[\"nombre\"] == nombre:\n",
    "            producto[\"cantidad\"] += cantidad #actualización de la cantidad\n",
    "            return\n",
    "    # si no encuentra un producto con el mismo nombre, lo añade al inventario\n",
    "    inventario.append({\"nombre\": nombre, \"precio\": precio, \"cantidad\": cantidad})    \n"
   ]
  },
  {
   "cell_type": "code",
   "execution_count": 12,
   "metadata": {},
   "outputs": [
    {
     "name": "stdout",
     "output_type": "stream",
     "text": [
      "       nombre  precio  cantidad\n",
      "0        piña       2       200\n",
      "1        tofu       1        25\n",
      "2       fresa       4       100\n",
      "3      seitán       1        50\n",
      "4     boniato       3        25\n",
      "5  portobello       1       200\n"
     ]
    }
   ],
   "source": [
    "agregar_producto(\"piña\", 2, 50) # añade el producto\n",
    "agregar_producto(\"tofu\", 1, 25)\n",
    "agregar_producto(\"fresa\", 4, 100)\n",
    "agregar_producto(\"seitán\", 1, 50)\n",
    "agregar_producto(\"boniato\", 3, 25)\n",
    "agregar_producto(\"portobello\", 1, 200)\n",
    "\n",
    "tabla_inventario = pd.DataFrame(inventario)\n",
    "print(tabla_inventario)"
   ]
  },
  {
   "cell_type": "markdown",
   "metadata": {},
   "source": [
    "<h3>Ver inventario</h3>"
   ]
  },
  {
   "cell_type": "code",
   "execution_count": 14,
   "metadata": {},
   "outputs": [],
   "source": [
    "def ver_inventario():\n",
    "    \"\"\"Enseña el inventario recorriendo la lista. De cada producto dice el nombre del producto, su precio y la cantidad disponible.\"\"\"\n",
    "    # recorre el inventario e imprime la información (el nombre se capitaliza por estética)\n",
    "    for producto in inventario: \n",
    "        print(f\"Nombre: {producto['nombre'].title()}, Precio: {producto['precio']}, Cantidad: {producto['cantidad']}\")"
   ]
  },
  {
   "cell_type": "code",
   "execution_count": 15,
   "metadata": {},
   "outputs": [
    {
     "name": "stdout",
     "output_type": "stream",
     "text": [
      "Nombre: Piña, Precio: 2, Cantidad: 200\n",
      "Nombre: Tofu, Precio: 1, Cantidad: 25\n",
      "Nombre: Fresa, Precio: 4, Cantidad: 100\n",
      "Nombre: Seitán, Precio: 1, Cantidad: 50\n",
      "Nombre: Boniato, Precio: 3, Cantidad: 25\n",
      "Nombre: Portobello, Precio: 1, Cantidad: 200\n"
     ]
    }
   ],
   "source": [
    "ver_inventario()"
   ]
  },
  {
   "cell_type": "markdown",
   "metadata": {},
   "source": [
    "<h3>Buscar producto</h3>"
   ]
  },
  {
   "cell_type": "code",
   "execution_count": 16,
   "metadata": {},
   "outputs": [],
   "source": [
    "def buscar_producto(nombre):\n",
    "    \"\"\"Busca producto según su nombre y lo imprime. Tiene como parámetro 'nombre' e imprime el nombre, el precio y la cantidad;\n",
    "    si no lo encuentra, avisa.\"\"\"\n",
    "    \n",
    "    nombre = nombre.lower() # para evitar que se produzcan errores por mayúscula/minúscula\n",
    "    \n",
    "    for producto in inventario:\n",
    "        if producto[\"nombre\"].lower() == nombre: # comprobación de si el nombre coincide y si coincide imprimir\n",
    "            print(f\"Nombre: {nombre.title()}. Precio: {producto['precio']}. Cantidad: {producto['cantidad']}\")\n",
    "            break\n",
    "    # caso de no encontrar el producto, se sale del bucle con break para avisar al usuario\n",
    "    else:\n",
    "        print(\"El producto no se encuentra en el inventario.\")"
   ]
  },
  {
   "cell_type": "code",
   "execution_count": 18,
   "metadata": {},
   "outputs": [
    {
     "name": "stdout",
     "output_type": "stream",
     "text": [
      "Nombre: Portobello. Precio: 1. Cantidad: 200\n"
     ]
    }
   ],
   "source": [
    "buscar_producto(\"portobello\")"
   ]
  },
  {
   "cell_type": "markdown",
   "metadata": {},
   "source": [
    "<h3>Actualizar stock</h3>"
   ]
  },
  {
   "cell_type": "code",
   "execution_count": 26,
   "metadata": {},
   "outputs": [],
   "source": [
    "def actualizar_stock(nombre, cantidad, precio=None):\n",
    "   \n",
    "    \"\"\"Actualiza la cantidad en el inventario de un producto. Los parámetros son el nombre y la cantidad. Si encuentra el producto, añade la cantidad\n",
    "    e imprime un mensaje; si no, imprime otro mensaje avisando de que no existe en el inventario.\"\"\"\n",
    "\n",
    "    nombre = nombre.lower() # se hace minúscula para evitar problemas\n",
    "    \n",
    "    # se recorren todos los productos del inventario\n",
    "    for producto in inventario:\n",
    "        # se comprueba si el nombre coincide y se actualiza la cantidad; se imprime la confirmación.\n",
    "        if producto[\"nombre\"].lower() == nombre:\n",
    "            producto[\"cantidad\"] += cantidad \n",
    "            print (f\"El stock se ha actualizado. Ahora hay {producto['cantidad']} {producto['nombre']}.\")\n",
    "\n",
    "            if precio is not None and precio != producto.get(\"precio\"):\n",
    "                confirmar = input(f\"El precio actual es {producto.get('precio')}. ¿Quieres cambiarlo a {precio} (s/n): \").strip().lower()\n",
    "                if confirmar == \"s\":\n",
    "                    producto[\"precio\"] = precio\n",
    "                    print(f\"Precio actualizado a {precio} €.\")\n",
    "                else:\n",
    "                    print(\"Precio no modificado.\")\n",
    "            return # se usa return en lugar de break para que la función on continúe al print\n",
    "    \n",
    "    print(\"El producto no se ha encontrado en el inventario.\")"
   ]
  },
  {
   "cell_type": "code",
   "execution_count": 28,
   "metadata": {},
   "outputs": [
    {
     "name": "stdout",
     "output_type": "stream",
     "text": [
      "El stock se ha actualizado. Ahora hay 215 portobello.\n",
      "Precio actualizado a 1 €.\n"
     ]
    }
   ],
   "source": [
    "actualizar_stock(\"portobello\", 5, 1)"
   ]
  },
  {
   "cell_type": "markdown",
   "metadata": {},
   "source": [
    "<h3>Eliminar producto</h3>"
   ]
  },
  {
   "cell_type": "code",
   "execution_count": null,
   "metadata": {},
   "outputs": [],
   "source": [
    "def eliminar_producto(nombre):\n",
    "\n",
    "    \"\"\"Elimina el producto introducido en el parámetro nombre. Avisa de la eliminación y de si no existe el producto\"\"\"\n",
    "\n",
    "    nombre = nombre.lower() # se hace minúscula para evitar problemas\n",
    "\n",
    "    # se recorre el inventario y se compara el nombre con los productos\n",
    "    for producto in inventario:\n",
    "        if producto[\"nombre\"].lower() == nombre:\n",
    "            inventario.remove(producto) # se elimina el producto y se muestra un mensaje de confirmación\n",
    "            print (f\"{nombre.title()} se ha eliminado del inventario.\")\n",
    "            return\n",
    "   \n",
    "    # se avisa de que el producto no está en el inventario\n",
    "    print(\"Producto no encontrado.\")"
   ]
  },
  {
   "cell_type": "code",
   "execution_count": null,
   "metadata": {},
   "outputs": [],
   "source": [
    "eliminar_producto(\"limones\")"
   ]
  },
  {
   "cell_type": "markdown",
   "metadata": {},
   "source": [
    "<h3>Calcular valor del inventario</h3>"
   ]
  },
  {
   "cell_type": "code",
   "execution_count": 29,
   "metadata": {},
   "outputs": [],
   "source": [
    "def calcular_valor_inventario():\n",
    "    \n",
    "    \"\"\"Calcula y enseña cuál es el valor del inventario.\"\"\"\n",
    "    \n",
    "    valor = 0 # partimos de que este es el valor del inventario\n",
    "\n",
    "    # se recorre el inventario y se va sumando a este valor que iniciábamos en 0 el producto de\n",
    "    # cada uno de los productos que tenemos en su cantidad * el precio de cada producto\n",
    "    for producto in inventario:\n",
    "        valor += producto[\"precio\"] * producto[\"cantidad\"]\n",
    "    \n",
    "    print(f\"El valor del inventario es de {valor}€.\")"
   ]
  },
  {
   "cell_type": "code",
   "execution_count": 30,
   "metadata": {},
   "outputs": [
    {
     "name": "stdout",
     "output_type": "stream",
     "text": [
      "El valor del inventario es de 1265€.\n"
     ]
    }
   ],
   "source": [
    "calcular_valor_inventario()"
   ]
  },
  {
   "cell_type": "markdown",
   "metadata": {},
   "source": [
    "<h3>Procesar el pago"
   ]
  },
  {
   "cell_type": "code",
   "execution_count": 31,
   "metadata": {},
   "outputs": [],
   "source": [
    "def procesar_pago():\n",
    "    \"\"\"Procesa el pago de una compra, calcula el cambio y muestra un mensaje de confirmación.\"\"\"\n",
    "    try:\n",
    "        total = float(input(\"Ingrese el total de la compra: \")) # pide al usuario que ingrese el total de la compra y lo transforma en float\n",
    "        pago = float(input(\"Ingrese la cantidad pagada: \")) # ahora la cantidad pagada\n",
    "        if pago < total: # verifica si el pago es menor que el total y da error si es así\n",
    "            raise ValueError(\"El total pagado no es suficiente.\")\n",
    "        cambio = pago - total # calcula el cambio\n",
    "        print(f\"¡Pagado! El cambio es {cambio:.2f}€\") # muestra un mesnaje de pago y le mete dos decimales\n",
    "    except ValueError as e: # si algo sale raro, se muestra mensaje de error\n",
    "        print(f\"Error en el pago: {e}\")"
   ]
  },
  {
   "cell_type": "code",
   "execution_count": 32,
   "metadata": {},
   "outputs": [
    {
     "name": "stdout",
     "output_type": "stream",
     "text": [
      "¡Pagado! El cambio es 5.00€\n"
     ]
    }
   ],
   "source": [
    "procesar_pago()"
   ]
  },
  {
   "cell_type": "markdown",
   "metadata": {},
   "source": [
    "<h3>Agregar cliente"
   ]
  },
  {
   "cell_type": "code",
   "execution_count": 34,
   "metadata": {},
   "outputs": [],
   "source": [
    "def agregar_cliente(nombre, email):\n",
    "\n",
    "    \"\"\"Se añade un nuevo cliente a la base datos.\"\"\"\n",
    "\n",
    "    # Agrega una nueva entrada en el diccionario 'clientes' usando el nombre como clave\n",
    "    # y un diccionario con el email y un historial de compras vacío como valor\n",
    "    clientes[nombre] = {\n",
    "        \"email\": email,              # Guarda el correo electrónico del cliente\n",
    "        \"historial_compras\": []      # Inicializa una lista vacía para el historial de compras\n",
    "    }\n",
    "\n",
    "    # Muestra un mensaje de confirmación\n",
    "    print(f\"{nombre} agregado correctamente.\")"
   ]
  },
  {
   "cell_type": "code",
   "execution_count": 35,
   "metadata": {},
   "outputs": [
    {
     "name": "stdout",
     "output_type": "stream",
     "text": [
      "Hamlet agregado correctamente.\n",
      "Rosencrantz agregado correctamente.\n",
      "Guildenstern agregado correctamente.\n",
      "Ophelia agregado correctamente.\n",
      "Gertrude agregado correctamente.\n",
      "Osric agregado correctamente.\n",
      "                                 email historial_compras\n",
      "Hamlet            2bornot2b@elsinor.dk                []\n",
      "Rosencrantz        traitor1@elsinor.dk                []\n",
      "Guildenstern       traitor2@elsinor.dk                []\n",
      "Ophelia            drowning@elsinor.dk                []\n",
      "Gertrude       merrydowager@elsinor.dk                []\n",
      "Osric         foolingaround@elsinor.dk                []\n"
     ]
    }
   ],
   "source": [
    "agregar_cliente(\"Hamlet\", \"2bornot2b@elsinor.dk\")\n",
    "agregar_cliente(\"Rosencrantz\", \"traitor1@elsinor.dk\")\n",
    "agregar_cliente(\"Guildenstern\", \"traitor2@elsinor.dk\")\n",
    "agregar_cliente(\"Ophelia\", \"drowning@elsinor.dk\")\n",
    "agregar_cliente(\"Gertrude\", \"merrydowager@elsinor.dk\")\n",
    "agregar_cliente(\"Osric\", \"foolingaround@elsinor.dk\")\n",
    "tabla_clientes = pd.DataFrame.from_dict(clientes, orient=\"index\") # convertimos el diccionario de clientes en tabla, con index se usa la clave (los clientes) como índice de las filas\n",
    "print(tabla_clientes)"
   ]
  },
  {
   "cell_type": "markdown",
   "metadata": {},
   "source": [
    "<h3>Realizar una compra"
   ]
  },
  {
   "cell_type": "code",
   "execution_count": 59,
   "metadata": {},
   "outputs": [],
   "source": [
    "def realizar_compra(nombre_cliente):\n",
    "\n",
    "    \"\"\"Facilita al cliente comprar. Para ello hay un bucle while para poder hacer varias selecciones; \n",
    "    muestra el inventario y pide el nombre del producto que se va a comprar y la cantidad; pone cada producto en la compra \n",
    "    y actualiza la cantidad en el inventario; y calcula e imprime el total de la compra\"\"\"\n",
    "    \n",
    "    carrito = {}\n",
    "    compra = [] \n",
    "    total_compra = 0\n",
    "\n",
    "    \n",
    "    while True:     \n",
    "        \n",
    "        # ver el inventario\n",
    "\n",
    "        print(\"Productos disponibles: \")\n",
    "        ver_inventario()      \n",
    "\n",
    "        # preguntar por el nombre del producto\n",
    "\n",
    "        eleccion_cliente = input(\"¿Qué quieres comprar? Escribe 'terminado' para terminar la compra\").lower()\n",
    "      \n",
    "        if eleccion_cliente == \"terminado\":\n",
    "            break\n",
    "\n",
    "        #preguntar por la cantidad a comprar\n",
    "\n",
    "        cantidad_input = input(f\"¿Cuántas unidades de {eleccion_cliente} quieres comprar? \")\n",
    "        if not cantidad_input.isdigit():\n",
    "            print(\"Introduce un número válido.\")\n",
    "            continue\n",
    "        cantidad = float(cantidad_input)\n",
    "\n",
    "        # búsqueda del producto en el inventario\n",
    "\n",
    "        for producto in inventario:\n",
    "            if producto['nombre'].lower() == eleccion_cliente:\n",
    "                    if producto['cantidad'] >= cantidad: #Si hay suficientes productos\n",
    "                        subtotal = cantidad * producto[\"precio\"]\n",
    "                        compra.append({'nombre': eleccion_cliente, 'cantidad': cantidad, 'subtotal': subtotal})\n",
    "                        carrito[eleccion_cliente] = {\n",
    "                            \"precio\": producto[\"precio\"],\n",
    "                            \"cantidad\": cantidad\n",
    "                        }\n",
    "                        total_compra += subtotal\n",
    "                        producto['cantidad'] -= cantidad \n",
    "                        print(\"Aquí tienes el inventario actualizado:\")\n",
    "                        ver_inventario()\n",
    "                    else:\n",
    "                        print(f\"Lo sentimos mucho, solo quedan {producto['cantidad']} {producto['nombre']}\")\n",
    "                    break # el break tiene que romper este if, en cualquier otra posición rompe antes de que pueda volver a recorrer la lista\n",
    "        else:\n",
    "            print(\"Lo sentimos mucho, pero no podemos encontrar este producto.\")\n",
    "    \n",
    "    # cálculo del costo total de la compra\n",
    "    if compra:\n",
    "        print(\"¡Ya has terminado de comprar! Aquí tienes lo que has comprado hasta ahora: \")\n",
    "        for elemento in compra:\n",
    "            print(f\"{elemento['cantidad']} {elemento['nombre'].title()} = {elemento['subtotal']}€\")\n",
    "            \n",
    "        print(f\"En total, tu compra asciende a: {total_compra}€.\") # sacamos el total de la compra del bucle de la compra para que no se repite por elemento\n",
    "    else:\n",
    "        print(\"No has comprado nada.\")\n",
    "    return carrito, total_compra\n",
    "         \n",
    "        "
   ]
  },
  {
   "cell_type": "code",
   "execution_count": null,
   "metadata": {},
   "outputs": [],
   "source": [
    "agregar_cliente(\"Hamlet\", \"2bornot2b@elsinor.dk\")  # para asegurarnos que existe el cliente\n",
    "realizar_compra(\"Hamlet\")"
   ]
  },
  {
   "cell_type": "markdown",
   "metadata": {},
   "source": [
    "<h3>Registrar compra"
   ]
  },
  {
   "cell_type": "code",
   "execution_count": 60,
   "metadata": {},
   "outputs": [],
   "source": [
    "def registrar_compra(nombre_cliente, carrito):\n",
    "    \"\"\"Registra una compra para un cliente, actualiza las ventas totales y agrega la compra al historial.\"\"\"\n",
    "\n",
    "    global ventas_totales  # Usamos la variable global para ir sumando las ventas\n",
    "\n",
    "    # Verifica si el cliente existe en el diccionario \n",
    "    if nombre_cliente not in clientes:\n",
    "        print(\"No se puede registrar la compra: cliente no encontrado.\")\n",
    "        return  # Sale de la función si el cliente no existe\n",
    "\n",
    "    total_compra = 0  # Inicializa el total de esta compra\n",
    "\n",
    "    # Recorre cada producto en el carrito\n",
    "    for producto, info in carrito.items():\n",
    "        # Suma al total el precio multiplicado por la cantidad\n",
    "        total_compra += info[\"precio\"] * info[\"cantidad\"]\n",
    "\n",
    "    # Crea un diccionario con los detalles de la compra\n",
    "    compra = {\n",
    "        \"productos\": carrito,      # El carrito con productos, precios y cantidades\n",
    "        \"total\": total_compra      # El total calculado de la compra\n",
    "    }\n",
    "\n",
    "    # Agrega la compra al historial del cliente\n",
    "    clientes[nombre_cliente][\"historial_compras\"].append(compra)\n",
    "\n",
    "    # Suma el total de esta compra al total de ventas de la tienda\n",
    "    ventas_totales += total_compra\n",
    "\n",
    "    # Muestra un mensaje de confirmación\n",
    "    print(f\"Compra registrada para {nombre_cliente}. Total: ${total_compra:.2f}\")"
   ]
  },
  {
   "cell_type": "code",
   "execution_count": null,
   "metadata": {},
   "outputs": [],
   "source": [
    "carrito, total_compra = realizar_compra(\"Hamlet\")\n",
    "registrar_compra(\"Hamlet\", carrito)"
   ]
  },
  {
   "cell_type": "markdown",
   "metadata": {},
   "source": [
    "<h3>Ver clientes"
   ]
  },
  {
   "cell_type": "code",
   "execution_count": 64,
   "metadata": {},
   "outputs": [],
   "source": [
    "def ver_clientes():\n",
    "    \"\"\"Clientes registrados con sus nombres y correos electrónicos.\"\"\"\n",
    "\n",
    "    # recorre cada cliente registrado en el diccionario\n",
    "    for nombre, datos in clientes.items():\n",
    "        # 'nombre' es la clave (nombre del cliente)\n",
    "        # 'datos' es el valor asociado (un diccionario con email e historial de compras)\n",
    "        # Imprime el nombre y correo electrónico del cliente\n",
    "        print(f\"Nombre: {nombre}, Correo: {datos['email']}\")\n",
    "    \n",
    "        # ahora obtenemos el historial de compras\n",
    "\n",
    "        historial = datos.get(\"historial_compras\", [])\n",
    "                              \n",
    "        # comprobamos si el cliente tiene compras\n",
    "\n",
    "        if historial: \n",
    "            print(\"Historial de compras: \")\n",
    "            # ahora recorremos cada compra\n",
    "            for i, compra in enumerate(historial, 1):\n",
    "                print(f\"Compra #{i}: \")\n",
    "                for producto, info in compra[\"productos\"].items():\n",
    "                    print(f\"Total de la compra: {compra['total']:.2f} €\")\n",
    "        else:\n",
    "            # si no hay compras registradas, avisa:\n",
    "            print(\"Este cliente no ha hecho ninguna compra.\")"
   ]
  },
  {
   "cell_type": "code",
   "execution_count": null,
   "metadata": {},
   "outputs": [],
   "source": [
    "ver_clientes()"
   ]
  },
  {
   "cell_type": "code",
   "execution_count": null,
   "metadata": {},
   "outputs": [],
   "source": []
  }
 ],
 "metadata": {
  "kernelspec": {
   "display_name": "base",
   "language": "python",
   "name": "python3"
  },
  "language_info": {
   "codemirror_mode": {
    "name": "ipython",
    "version": 3
   },
   "file_extension": ".py",
   "mimetype": "text/x-python",
   "name": "python",
   "nbconvert_exporter": "python",
   "pygments_lexer": "ipython3",
   "version": "3.12.7"
  }
 },
 "nbformat": 4,
 "nbformat_minor": 2
}
